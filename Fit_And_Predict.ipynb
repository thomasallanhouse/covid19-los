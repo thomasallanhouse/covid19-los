{
 "cells": [
  {
   "cell_type": "markdown",
   "metadata": {},
   "source": [
    "# Fit the Model and Predict Occupancy\n",
    "\n",
    "Pull in data and model structure as processed; fit a multi-state model then simulate\n",
    "\n",
    "Start by defining the model structure (although this is implicit in the data files) for end-user interpretability\n"
   ]
  },
  {
   "cell_type": "code",
   "execution_count": 1,
   "metadata": {},
   "outputs": [],
   "source": [
    "%matplotlib inline\n",
    "import numpy as np\n",
    "import scipy as sp\n",
    "import scipy.stats as st\n",
    "import scipy.special as sp\n",
    "import scipy.optimize as op\n",
    "import pandas as pd\n",
    "from scipy import integrate\n",
    "import matplotlib.pyplot as plt\n",
    "from tqdm.notebook import tqdm\n",
    "import networkx as nx\n",
    "import seaborn as sns"
   ]
  },
  {
   "cell_type": "code",
   "execution_count": 2,
   "metadata": {},
   "outputs": [],
   "source": [
    "state_names = (\n",
    "    \"Acute Ward\",\n",
    "    \"ICU\",\n",
    "    \"Recovery Ward\",\n",
    "    \"Discharge\",\n",
    "    \"Death\",\n",
    ")\n",
    "nstates = len(state_names)"
   ]
  },
  {
   "cell_type": "code",
   "execution_count": 3,
   "metadata": {},
   "outputs": [],
   "source": [
    "allowed_transitions = (\n",
    "    (\"Acute Ward\", \"ICU\"),\n",
    "    (\"Acute Ward\", \"Discharge\"),\n",
    "    (\"Acute Ward\", \"Death\"),\n",
    "    (\"ICU\", \"Recovery Ward\"),\n",
    "    (\"ICU\", \"Death\"),\n",
    "    (\"Recovery Ward\", \"ICU\"),\n",
    "    (\"Recovery Ward\", \"Discharge\"),\n",
    ")\n",
    "ntrans = len(allowed_transitions)"
   ]
  },
  {
   "cell_type": "code",
   "execution_count": 4,
   "metadata": {},
   "outputs": [
    {
     "data": {
      "image/png": "[encoded data removed]",
      "text/plain": [
       "<Figure size 360x360 with 1 Axes>"
      ]
     },
     "metadata": {},
     "output_type": "display_data"
    }
   ],
   "source": [
    "state_dict = {state: loc+1 for loc, state in enumerate(state_names)}\n",
    "state_name_dict = {loc+1: state for loc, state in enumerate(state_names)}\n",
    "IJ = [(state_dict[xy[0]],state_dict[xy[1]]) for xy in allowed_transitions]\n",
    "DG = nx.DiGraph()\n",
    "DG.add_edges_from(IJ)\n",
    "plt.figure(figsize=(5,5))\n",
    "pos=nx.circular_layout(DG)\n",
    "nx.draw(DG,pos)\n",
    "nx.draw_networkx_labels(DG,pos,labels=state_name_dict)\n",
    "plt.show()"
   ]
  },
  {
   "cell_type": "code",
   "execution_count": 5,
   "metadata": {},
   "outputs": [
    {
     "data": {
      "text/plain": [
       "array([[0, 1, 0, 1, 1],\n",
       "       [0, 0, 1, 0, 1],\n",
       "       [0, 1, 0, 1, 0],\n",
       "       [0, 0, 0, 0, 0],\n",
       "       [0, 0, 0, 0, 0]])"
      ]
     },
     "execution_count": 5,
     "metadata": {},
     "output_type": "execute_result"
    }
   ],
   "source": [
    "Qbase = nx.to_numpy_array(DG,dtype='int',nodelist=range(1,nstates+1))\n",
    "Qbase # Matrix of allowed transitions: G[i,j] is from i to j"
   ]
  },
  {
   "cell_type": "code",
   "execution_count": 6,
   "metadata": {},
   "outputs": [
    {
     "data": {
      "text/plain": [
       "array([[0, 1, 0, 2, 3],\n",
       "       [0, 0, 4, 0, 5],\n",
       "       [0, 6, 0, 7, 0],\n",
       "       [0, 0, 0, 0, 0],\n",
       "       [0, 0, 0, 0, 0]])"
      ]
     },
     "execution_count": 6,
     "metadata": {},
     "output_type": "execute_result"
    }
   ],
   "source": [
    "nxy = np.shape(Qbase)\n",
    "TransNum = Qbase.copy()\n",
    "k=1\n",
    "for i in range(0,nxy[0]):\n",
    "    for j in range(0,nxy[1]):\n",
    "        if (Qbase[i,j] > 0):\n",
    "            TransNum[i,j] = k\n",
    "            k +=1\n",
    "TransNum"
   ]
  },
  {
   "cell_type": "code",
   "execution_count": 7,
   "metadata": {},
   "outputs": [],
   "source": [
    "def mynll(params, T, C, X, ATF=True):\n",
    "    kk = params[0]\n",
    "    bb = params[1:]\n",
    "    xb = X@bb\n",
    "    if ATF:\n",
    "        phik = np.exp(kk*xb)\n",
    "        return (((T**kk)@phik) - (C) @ (np.log(kk * (T**(kk-1))) + kk*xb))\n",
    "    else:\n",
    "        th = np.exp(xb)\n",
    "        return (((T**kk)@th) - (C) @ (np.log(kk * (T**(kk-1))) + xb))"
   ]
  },
  {
   "cell_type": "code",
   "execution_count": 8,
   "metadata": {},
   "outputs": [],
   "source": [
    "def get_scale(x, k=1.0, ATF=True):\n",
    "    # Return a Weibull scale parameter from a linear predictor \n",
    "    if ATF:\n",
    "        return np.exp(-x)\n",
    "    else:\n",
    "        return np.exp(-x/k)"
   ]
  },
  {
   "cell_type": "code",
   "execution_count": 9,
   "metadata": {},
   "outputs": [],
   "source": [
    "df = pd.read_csv('./data_files/Current_COVID.csv')\n",
    "df = df.drop(['Unnamed: 0'], axis = 1)\n",
    "census = pd.read_csv('./data_files/census.csv').values"
   ]
  },
  {
   "cell_type": "code",
   "execution_count": 10,
   "metadata": {},
   "outputs": [
    {
     "data": {
      "application/vnd.jupyter.widget-view+json": {
       "model_id": "43910405241e4658bf778ce571424520",
       "version_major": 2,
       "version_minor": 0
      },
      "text/plain": [
       "HBox(children=(FloatProgress(value=0.0, max=7.0), HTML(value='')))"
      ]
     },
     "metadata": {},
     "output_type": "display_data"
    },
    {
     "name": "stdout",
     "output_type": "stream",
     "text": [
      "\n"
     ]
    },
    {
     "name": "stderr",
     "output_type": "stream",
     "text": [
      "/Users/thomas/anaconda3/lib/python3.7/site-packages/ipykernel_launcher.py:7: RuntimeWarning: invalid value encountered in log\n",
      "  import sys\n"
     ]
    }
   ],
   "source": [
    "x0 = np.array([1.0, -3.0])\n",
    "ntrans = np.max(TransNum)\n",
    "xhats = np.zeros((ntrans, len(x0)))\n",
    "\n",
    "for k in tqdm(range(0,ntrans)):\n",
    "    dfk = df[df.TransitionNumber == (k+1)]\n",
    "    T = dfk.TimeInState.values\n",
    "    C = dfk.Censored.values\n",
    "\n",
    "    X = np.atleast_2d(np.ones(len(T)))\n",
    "    \n",
    "    myf = lambda x: mynll(x, T, C, X.T)\n",
    "    fout = op.minimize(myf,x0,method='Nelder-Mead')\n",
    "    xhat = fout.x\n",
    "    khat = np.abs(xhat[0])\n",
    "    scalehat = get_scale(xhat[1]) \n",
    "    xhats[k,:] =fout.x"
   ]
  },
  {
   "cell_type": "code",
   "execution_count": 11,
   "metadata": {},
   "outputs": [
    {
     "data": {
      "application/vnd.jupyter.widget-view+json": {
       "model_id": "756a1a3ddf8840a8bc617c8bb1ecd933",
       "version_major": 2,
       "version_minor": 0
      },
      "text/plain": [
       "HBox(children=(FloatProgress(value=0.0, max=400.0), HTML(value='')))"
      ]
     },
     "metadata": {},
     "output_type": "display_data"
    },
    {
     "name": "stderr",
     "output_type": "stream",
     "text": [
      "/Users/thomas/anaconda3/lib/python3.7/site-packages/ipykernel_launcher.py:7: RuntimeWarning: invalid value encountered in log\n",
      "  import sys\n"
     ]
    },
    {
     "name": "stdout",
     "output_type": "stream",
     "text": [
      "\n"
     ]
    }
   ],
   "source": [
    "nboot = 400 # Number of bootstrap samples taken\n",
    "xboot = np.zeros((nboot, ntrans, len(x0)))\n",
    "for b in tqdm(range(0,nboot)):\n",
    "    df = pd.read_csv('./data_files/Current_COVID' + str(b) + '.csv')\n",
    "    df = df.drop(['Unnamed: 0'], axis = 1)\n",
    "    for k in range(0,ntrans):\n",
    "        dfk = df[df.TransitionNumber == (k+1)]\n",
    "        T = dfk.TimeInState.values\n",
    "        C = dfk.Censored.values\n",
    "        \n",
    "        X = np.atleast_2d(np.ones(len(T)))\n",
    "\n",
    "        myf = lambda x: mynll(x, T, C, X.T)\n",
    "        fout = op.minimize(myf,xhat,method='Nelder-Mead')\n",
    "        xboot[b,k,:] = fout.x"
   ]
  },
  {
   "cell_type": "code",
   "execution_count": 12,
   "metadata": {},
   "outputs": [],
   "source": [
    "ld = len(census)\n",
    "dayrange = range(1,ld+1) # The range of days we care about"
   ]
  },
  {
   "cell_type": "code",
   "execution_count": 13,
   "metadata": {},
   "outputs": [
    {
     "data": {
      "application/vnd.jupyter.widget-view+json": {
       "model_id": "d431302d93d047a6a49124f1d0b655aa",
       "version_major": 2,
       "version_minor": 0
      },
      "text/plain": [
       "HBox(children=(FloatProgress(value=0.0, max=400.0), HTML(value='')))"
      ]
     },
     "metadata": {},
     "output_type": "display_data"
    },
    {
     "name": "stdout",
     "output_type": "stream",
     "text": [
      "\n"
     ]
    }
   ],
   "source": [
    "# Simulate for comparison with census\n",
    "\n",
    "counts = np.zeros((nboot,nstates,ld))\n",
    "np.random.seed(7)\n",
    "for s in tqdm(range(0,nboot)):\n",
    "    \n",
    "    \n",
    "    kmatb = np.zeros((nstates,nstates))\n",
    "    scalematb = np.zeros((nstates,nstates))\n",
    "    for k in range(0,ntrans):\n",
    "        ij = np.argwhere(TransNum == (k+1))[0]\n",
    "        kmatb[ij[0],ij[1]] = xboot[s,k,0]\n",
    "        scalematb[ij[0],ij[1]] = get_scale(xboot[s,k,1])\n",
    "    adm = np.zeros(ld) \n",
    "    adm[0:len(census[:,5])] = census[:,5] # admissions\n",
    "\n",
    "\n",
    "    for d in dayrange:      \n",
    "        for i in range(0,int(adm[d-1])):\n",
    "            prob_ICUstart = 0.0 # Change if non-zero\n",
    "            rand = np.random.uniform(0,1)\n",
    "            if (rand<prob_ICUstart):\n",
    "                y=1\n",
    "            else:\n",
    "                y=0\n",
    "\n",
    "            Yi = np.array([y])\n",
    "            Ti = np.array([0.0])\n",
    "            while ((np.sum(Qbase[y,:]) > 0.0) and (Ti[-1]<=ld)):\n",
    "                zz = np.where(Qbase[y,:] > 0.0)[0]\n",
    "                tti = np.zeros(len(zz))\n",
    "                yyi = np.zeros(len(zz))\n",
    "                for q, z in enumerate(zz):\n",
    "                    k = kmatb[y,z]\n",
    "                    scaleg = scalematb[y,z]\n",
    "                    tti[q] = scaleg*np.random.weibull(k)\n",
    "                    yyi[q] = z\n",
    "\n",
    "                r = np.argmin(tti)\n",
    "                tran = TransNum[y,:][np.nonzero(TransNum[y,:])][r]\n",
    "                y = int(yyi[r])\n",
    "                Yi = np.append(Yi,y)\n",
    "                Ti = np.append(Ti,Ti[-1].copy() + tti[r])\n",
    "            Zi = [int(np.round(x)) for x in Yi]\n",
    "            Di = [(d + int(np.round(x))) for x in Ti]\n",
    "            for m in range(0,len(Di)):\n",
    "                j = Zi[m]\n",
    "                if (Di[m]>=ld):\n",
    "                    break\n",
    "                if (m==(len(Di)-1)):\n",
    "                    counts[s,j,Di[m]:] += 1.0\n",
    "                elif (Di[m+1]>ld):\n",
    "                    counts[s,j,Di[m]:ld] += 1.0\n",
    "                else:\n",
    "                    counts[s,j,Di[m]:Di[m+1]] += 1.0"
   ]
  },
  {
   "cell_type": "code",
   "execution_count": 14,
   "metadata": {},
   "outputs": [],
   "source": [
    "nb = nboot # Number of census bootstraps \n",
    "censusb = []\n",
    "for b in range(0,nb):\n",
    "    dfb = pd.read_csv('./data_files/census' + str(b) + '.csv', )\n",
    "    censusb.append(dfb.values)\n",
    "censusb = np.array(censusb)"
   ]
  },
  {
   "cell_type": "code",
   "execution_count": 15,
   "metadata": {},
   "outputs": [
    {
     "data": {
      "image/png": "[encoded data removed]",
      "text/plain": [
       "<Figure size 432x360 with 4 Axes>"
      ]
     },
     "metadata": {
      "needs_background": "light"
     },
     "output_type": "display_data"
    }
   ],
   "source": [
    "plt.figure(figsize=(6,5))\n",
    "\n",
    "for i in range(0,3):\n",
    "    \n",
    "    plt.subplot(2,2,i+1)\n",
    "    for s in range(0,nboot):\n",
    "        plt.plot(dayrange,counts[s,i,:],c='k',linewidth=2,alpha=0.01,zorder=0)  \n",
    "    z = census[:,i]\n",
    "    w = np.array([])\n",
    "    for day in range(0,len(z)):\n",
    "        w = np.append(w,np.repeat(day, int(z[day])))\n",
    "    t = range(0, len(z))\n",
    "    kde = st.gaussian_kde(w)\n",
    "    plt.plot(t, np.sum(z)*kde(t), c='w', lw=2, zorder=2)\n",
    "    plt.plot(t, np.sum(z)*kde(t), c='r', lw=1, zorder=3)\n",
    "    yboot = np.zeros((nb,len(t)))\n",
    "    for q in range(0,nb):\n",
    "        zboot = censusb[q,:,i]\n",
    "        wboot = np.array([])\n",
    "        for day in range(0,len(zboot)):\n",
    "            wboot = np.append(wboot,np.repeat(day, int(zboot[day])))\n",
    "        kdeboot = st.gaussian_kde(wboot)\n",
    "        yboot[q,:] = kdeboot(t)\n",
    "    yl = np.sum(z)*np.percentile(yboot,2.5,axis=0)\n",
    "    yu = np.sum(z)*np.percentile(yboot,97.5,axis=0)\n",
    "    plt.plot(t, yl, c='w', lw=2, zorder=2)\n",
    "    plt.plot(t, yl, c='r', ls='--', lw=1, zorder=3)\n",
    "    plt.plot(t, yu, c='w', lw=2, zorder=2)\n",
    "    plt.plot(t, yu, c='r', ls='--', lw=1, zorder=3)\n",
    "    plt.title(state_names[i])\n",
    "    plt.xlim([0,77])\n",
    "    plt.xlabel('Day')\n",
    "    plt.ylabel('Bed Occupancy')\n",
    "    \n",
    "plt.subplot(2,2,4)\n",
    "for s in range(0,nboot):\n",
    "    plt.plot(dayrange,np.sum(counts[s,[3,4],:],0),c='k',linewidth=2,alpha=0.01,zorder=0)  \n",
    "z = np.sum(census[:,[3,4]],1)\n",
    "w = np.array([])\n",
    "for day in range(0,len(z)):\n",
    "    w = np.append(w,np.repeat(day, int(z[day])))\n",
    "kde = st.gaussian_kde(w)\n",
    "plt.plot(t, np.sum(z)*kde(t), c='w', lw=2, zorder=2)\n",
    "plt.plot(t, np.sum(z)*kde(t), c='r', lw=1, zorder=3)\n",
    "yboot = np.zeros((nb,len(t)))\n",
    "for q in range(0,nb):\n",
    "    zboot = np.sum(censusb[q,:,[3,4]],0)\n",
    "    wboot = np.array([])\n",
    "    for day in range(0,len(zboot)):\n",
    "        wboot = np.append(wboot,np.repeat(day, int(zboot[day])))\n",
    "    kdeboot = st.gaussian_kde(wboot)\n",
    "    yboot[q,:] = kdeboot(t)\n",
    "yl = np.sum(z)*np.percentile(yboot,2.5,axis=0)\n",
    "yu = np.sum(z)*np.percentile(yboot,97.5,axis=0)\n",
    "plt.plot(t, yl, c='w', lw=2, zorder=2)\n",
    "plt.plot(t, yl, c='r', ls='--', lw=1, zorder=3)\n",
    "plt.plot(t, yu, c='w', lw=2, zorder=2)\n",
    "plt.plot(t, yu, c='r', ls='--', lw=1, zorder=3)\n",
    "plt.title('Outcome')\n",
    "plt.xlim([0,77])\n",
    "plt.xlabel('Day')\n",
    "plt.ylabel('Count')\n",
    "    \n",
    "plt.tight_layout()"
   ]
  },
  {
   "cell_type": "code",
   "execution_count": 16,
   "metadata": {},
   "outputs": [
    {
     "data": {
      "application/vnd.jupyter.widget-view+json": {
       "model_id": "c03afc900a1142da901b1a77c20c3b59",
       "version_major": 2,
       "version_minor": 0
      },
      "text/plain": [
       "HBox(children=(FloatProgress(value=0.0, max=400.0), HTML(value='')))"
      ]
     },
     "metadata": {},
     "output_type": "display_data"
    },
    {
     "name": "stdout",
     "output_type": "stream",
     "text": [
      "\n"
     ]
    }
   ],
   "source": [
    "# Simulate for confidence interval in mean\n",
    "\n",
    "npat = 10000 # Number of patients to simulate per bootstrap\n",
    "outdict = {x: np.zeros((nboot,2)) for x in allowed_transitions}\n",
    "outdict_hat = {x: np.zeros(2) for x in allowed_transitions}\n",
    "states_to_start = ('Acute Ward', 'ICU', 'Recovery Ward')\n",
    "\n",
    "\n",
    "kmatb = np.zeros((nstates,nstates))\n",
    "scalematb = np.zeros((nstates,nstates))\n",
    "for k in range(0,ntrans):\n",
    "    ij = np.argwhere(TransNum == (k+1))[0]\n",
    "    kmatb[ij[0],ij[1]] = xhats[k,0]\n",
    "    scalematb[ij[0],ij[1]] = get_scale(xhats[k,1])\n",
    "\n",
    "for i in range(0,npat):\n",
    "    for ss in states_to_start: # For each patient start in each start state\n",
    "        y = state_dict[ss]-1\n",
    "\n",
    "        zz = np.where(Qbase[y,:] > 0.0)[0]\n",
    "        tti = np.zeros(len(zz))\n",
    "        yyi = np.zeros(len(zz))\n",
    "        for q, z in enumerate(zz):\n",
    "            k = kmatb[y,z]\n",
    "            scaleg = scalematb[y,z]\n",
    "            tti[q] = scaleg*np.random.weibull(k)\n",
    "            yyi[q] = z\n",
    "\n",
    "        r = np.argmin(tti)\n",
    "\n",
    "        se = state_names[int(yyi[r])]\n",
    "        outdict_hat[(ss,se)][0] += tti[r]\n",
    "        outdict_hat[(ss,se)][1] += 1\n",
    "        \n",
    "for s in tqdm(range(0,nboot)):\n",
    "    \n",
    "    kmatb = np.zeros((nstates,nstates))\n",
    "    scalematb = np.zeros((nstates,nstates))\n",
    "    for k in range(0,ntrans):\n",
    "        ij = np.argwhere(TransNum == (k+1))[0]\n",
    "        kmatb[ij[0],ij[1]] = xboot[s,k,0]\n",
    "        scalematb[ij[0],ij[1]] = get_scale(xboot[s,k,1])\n",
    "\n",
    "    for i in range(0,npat):\n",
    "        for ss in states_to_start: # For each patient start in each start state\n",
    "            y = state_dict[ss]-1\n",
    "\n",
    "            zz = np.where(Qbase[y,:] > 0.0)[0]\n",
    "            tti = np.zeros(len(zz))\n",
    "            yyi = np.zeros(len(zz))\n",
    "            for q, z in enumerate(zz):\n",
    "                k = kmatb[y,z]\n",
    "                scaleg = scalematb[y,z]\n",
    "                tti[q] = scaleg*np.random.weibull(k)\n",
    "                yyi[q] = z\n",
    "\n",
    "            r = np.argmin(tti)\n",
    "            \n",
    "            se = state_names[int(yyi[r])]\n",
    "            outdict[(ss,se)][s,0] += tti[r]\n",
    "            outdict[(ss,se)][s,1] += 1\n",
    "            "
   ]
  },
  {
   "cell_type": "code",
   "execution_count": 17,
   "metadata": {},
   "outputs": [],
   "source": [
    "# Work out probabilities of going to each state\n",
    "ss = states_to_start[0]\n",
    "pvec = []\n",
    "prow  = []\n",
    "pvecb = []\n",
    "prowb  = []\n",
    "for pair, vec in outdict.items():\n",
    "    if (pair[0] == ss):\n",
    "        prow.append(outdict_hat[pair][1])\n",
    "        prowb.append(outdict[pair][:,1])\n",
    "    else:\n",
    "        ss = pair[0]\n",
    "        pvec.append(prow)\n",
    "        prow = []\n",
    "        prow.append(outdict_hat[pair][1])\n",
    "        \n",
    "        pvecb.append(prowb)\n",
    "        prowb = []\n",
    "        prowb.append(outdict[pair][:,1])\n",
    "pvec.append(prow)\n",
    "pvecb.append(prowb)"
   ]
  },
  {
   "cell_type": "code",
   "execution_count": 18,
   "metadata": {},
   "outputs": [],
   "source": [
    "probs = np.array([])\n",
    "pl = np.array([])\n",
    "pu = np.array([])\n",
    "for j in range(0,len(pvec)):\n",
    "    qvec = np.array(pvec[j])\n",
    "    qvec /= np.sum(qvec)\n",
    "    qvec *= 100.0\n",
    "    qa = np.array(pvecb[j])*(100/npat)\n",
    "    ql = np.nanpercentile(qa,2.5,1)\n",
    "    qu = np.nanpercentile(qa,97.5,1)\n",
    "    probs = np.concatenate([probs,qvec])\n",
    "    pl = np.concatenate([pl,ql])\n",
    "    pu = np.concatenate([pu,qu])"
   ]
  },
  {
   "cell_type": "code",
   "execution_count": 19,
   "metadata": {},
   "outputs": [
    {
     "name": "stdout",
     "output_type": "stream",
     "text": [
      "Acute Ward to ICU: 3.6(2.9,4.9) days; probability 5.2(3.7,6.5)%\n",
      "Acute Ward to Discharge: 7.9(7.7,8.9) days; probability 68.4(65.5,71.3)%\n",
      "Acute Ward to Death: 9.3(8.2,10.0) days; probability 26.4(23.9,29.3)%\n",
      "ICU to Recovery Ward: 23.8(18.8,30.1) days; probability 72.1(59.1,83.5)%\n",
      "ICU to Death: 19.3(12.9,30.4) days; probability 27.9(16.5,40.9)%\n",
      "Recovery Ward to ICU: 1.1(0.8,2.4) days; probability 19.8(7.2,31.7)%\n",
      "Recovery Ward to Discharge: 6.5(4.8,8.2) days; probability 80.2(68.3,92.8)%\n"
     ]
    },
    {
     "name": "stderr",
     "output_type": "stream",
     "text": [
      "/Users/thomas/anaconda3/lib/python3.7/site-packages/ipykernel_launcher.py:4: RuntimeWarning: invalid value encountered in true_divide\n",
      "  after removing the cwd from sys.path.\n"
     ]
    }
   ],
   "source": [
    "j = 0\n",
    "for pair, vec in outdict.items():\n",
    "    that = outdict_hat[pair][0]/outdict_hat[pair][1]\n",
    "    tts = outdict[pair][:,0]/outdict[pair][:,1]\n",
    "    tlow = np.nanpercentile(tts,2.5)\n",
    "    tup = np.nanpercentile(tts,97.5)\n",
    "    print('{} to {}: {:.1f}({:.1f},{:.1f}) days; probability {:.1f}({:.1f},{:.1f})%'.format(\n",
    "        pair[0], pair[1], that, tlow, tup,probs[j],pl[j],pu[j]))\n",
    "    j += 1"
   ]
  },
  {
   "cell_type": "code",
   "execution_count": 20,
   "metadata": {},
   "outputs": [],
   "source": [
    "# Simulate for prediction interval of different outcomes at the point estimate\n",
    "\n",
    "kmatb = np.zeros((nstates,nstates))\n",
    "scalematb = np.zeros((nstates,nstates))\n",
    "for k in range(0,ntrans):\n",
    "    ij = np.argwhere(TransNum == (k+1))[0]\n",
    "    kmatb[ij[0],ij[1]] = xhats[k,0]\n",
    "    scalematb[ij[0],ij[1]] = get_scale(xhats[k,1])"
   ]
  },
  {
   "cell_type": "code",
   "execution_count": 21,
   "metadata": {},
   "outputs": [
    {
     "data": {
      "application/vnd.jupyter.widget-view+json": {
       "model_id": "ec47c92e07064213973566c33e2e6d0e",
       "version_major": 2,
       "version_minor": 0
      },
      "text/plain": [
       "HBox(children=(FloatProgress(value=0.0, max=1000000.0), HTML(value='')))"
      ]
     },
     "metadata": {},
     "output_type": "display_data"
    },
    {
     "name": "stdout",
     "output_type": "stream",
     "text": [
      "\n",
      "Ward to final outcome - prediction region for time including cycles through recovery ward:\n",
      "If No ICU Stay, n = 949316:\n",
      "Mean: 8.49\n",
      "STD: 8.84\n",
      "50 percent interval: (2.28, 11.72)\n",
      "95 percent interval: (0.18, 32.48)\n",
      "If ICU Stay, n = 50684:\n",
      "Mean: 35.00\n",
      "STD: 24.87\n",
      "50 percent interval: (16.92, 47.01)\n",
      "95 percent interval: (3.68, 97.30)\n"
     ]
    }
   ],
   "source": [
    "# Ward admission to final outcome\n",
    "\n",
    "npat = 1000000 # Number of patients to simulate\n",
    "Ti = np.zeros(npat)\n",
    "was_in_icu = np.zeros(npat)\n",
    "\n",
    "for i in tqdm(range(0,npat)):\n",
    "    y=0\n",
    "    Ti[i] = 0.0\n",
    "    while (np.sum(Qbase[y,:]) > 0.0):\n",
    "        zz = np.where(Qbase[y,:] > 0.0)[0]\n",
    "        tti = np.zeros(len(zz))\n",
    "        yyi = np.zeros(len(zz))\n",
    "        for q, z in enumerate(zz):\n",
    "            k = kmatb[y,z]\n",
    "            scaleg = scalematb[y,z]\n",
    "            tti[q] = scaleg*np.random.weibull(k)\n",
    "            yyi[q] = z\n",
    "\n",
    "        r = np.argmin(tti)\n",
    "        y = int(yyi[r])\n",
    "        if (y==1):\n",
    "            was_in_icu[i] = 1\n",
    "        Ti[i] += tti[r]\n",
    "        \n",
    "print(\"Ward to final outcome - prediction region for time including cycles through recovery ward:\")\n",
    "\n",
    "icui = (was_in_icu == 1)\n",
    "\n",
    "print(\"If No ICU Stay, n = {:d}:\".format(len(np.where(~icui)[0])))\n",
    "print('Mean: {:.2f}'.format(np.mean(Ti[~icui])))\n",
    "print('STD: {:.2f}'.format(np.std(Ti[~icui])))\n",
    "print('50 percent interval: ({:.2f}, {:.2f})'.format(np.percentile(Ti[~icui],25), np.percentile(Ti[~icui],75)))\n",
    "print('95 percent interval: ({:.2f}, {:.2f})'.format(np.percentile(Ti[~icui],2.5), np.percentile(Ti[~icui],97.5)))\n",
    "\n",
    "print(\"If ICU Stay, n = {:d}:\".format(len(np.where(icui)[0])))\n",
    "print('Mean: {:.2f}'.format(np.mean(Ti[icui])))\n",
    "print('STD: {:.2f}'.format(np.std(Ti[icui])))\n",
    "print('50 percent interval: ({:.2f}, {:.2f})'.format(np.percentile(Ti[icui],25), np.percentile(Ti[icui],75)))\n",
    "print('95 percent interval: ({:.2f}, {:.2f})'.format(np.percentile(Ti[icui],2.5), np.percentile(Ti[icui],97.5)))"
   ]
  },
  {
   "cell_type": "code",
   "execution_count": 22,
   "metadata": {},
   "outputs": [
    {
     "data": {
      "application/vnd.jupyter.widget-view+json": {
       "model_id": "d1267a6568ed4a5995ef726fe6b61aa4",
       "version_major": 2,
       "version_minor": 0
      },
      "text/plain": [
       "HBox(children=(FloatProgress(value=0.0, max=100000.0), HTML(value='')))"
      ]
     },
     "metadata": {},
     "output_type": "display_data"
    },
    {
     "name": "stdout",
     "output_type": "stream",
     "text": [
      "\n",
      "ICU to first ICU exit - prediction region for time excluding cycles through recovery ward:\n",
      "Mean: 22.73\n",
      "STD: 18.75\n",
      "50 percent interval: (8.62, 31.84)\n",
      "95 percent interval: (1.10, 70.57)\n"
     ]
    }
   ],
   "source": [
    "# ICU to first ICU exit\n",
    "\n",
    "npat = 100000 # Number of patients to simulate\n",
    "Ti = np.zeros(npat)\n",
    "for i in tqdm(range(0,npat)):\n",
    "    y=1\n",
    "    Ti[i] = 0.0\n",
    "    zz = np.where(Qbase[y,:] > 0.0)[0]\n",
    "    tti = np.zeros(len(zz))\n",
    "    yyi = np.zeros(len(zz))\n",
    "    for q, z in enumerate(zz):\n",
    "        k = kmatb[y,z]\n",
    "        scaleg = scalematb[y,z]\n",
    "        tti[q] = scaleg*np.random.weibull(k)\n",
    "        yyi[q] = z\n",
    "    r = np.argmin(tti)\n",
    "    Ti[i] += tti[r]\n",
    "print(\"ICU to first ICU exit - prediction region for time excluding cycles through recovery ward:\")\n",
    "print('Mean: {:.2f}'.format(np.mean(Ti)))\n",
    "print('STD: {:.2f}'.format(np.std(Ti)))\n",
    "print('50 percent interval: ({:.2f}, {:.2f})'.format(np.percentile(Ti,25), np.percentile(Ti,75)))\n",
    "print('95 percent interval: ({:.2f}, {:.2f})'.format(np.percentile(Ti,2.5), np.percentile(Ti,97.5)))"
   ]
  },
  {
   "cell_type": "code",
   "execution_count": 23,
   "metadata": {},
   "outputs": [
    {
     "data": {
      "application/vnd.jupyter.widget-view+json": {
       "model_id": "8a02f0c6ed134cd5978c031828ebcec4",
       "version_major": 2,
       "version_minor": 0
      },
      "text/plain": [
       "HBox(children=(FloatProgress(value=0.0, max=100000.0), HTML(value='')))"
      ]
     },
     "metadata": {},
     "output_type": "display_data"
    },
    {
     "name": "stdout",
     "output_type": "stream",
     "text": [
      "\n",
      "ICU to final ICU exit - prediction region for time including cycles through recovery ward:\n",
      "Mean: 31.22\n",
      "STD: 24.11\n",
      "50 percent interval: (13.72, 42.50)\n",
      "95 percent interval: (1.98, 92.55)\n"
     ]
    }
   ],
   "source": [
    "# ICU to final ICU exit\n",
    "\n",
    "npat = 100000 # Number of patients to simulate\n",
    "Ti = np.zeros(npat)\n",
    "for i in tqdm(range(0,npat)):\n",
    "    y=1\n",
    "    Ti[i] = 0.0\n",
    "    while (np.sum(Qbase[y,:]) > 0.0):\n",
    "        zz = np.where(Qbase[y,:] > 0.0)[0]\n",
    "        tti = np.zeros(len(zz))\n",
    "        yyi = np.zeros(len(zz))\n",
    "        for q, z in enumerate(zz):\n",
    "            k = kmatb[y,z]\n",
    "            scaleg = scalematb[y,z]\n",
    "            tti[q] = scaleg*np.random.weibull(k)\n",
    "            yyi[q] = z\n",
    "\n",
    "        r = np.argmin(tti)\n",
    "        y = int(yyi[r])\n",
    "        Ti[i] += tti[r]\n",
    "print(\"ICU to final ICU exit - prediction region for time including cycles through recovery ward:\")\n",
    "print('Mean: {:.2f}'.format(np.mean(Ti)))\n",
    "print('STD: {:.2f}'.format(np.std(Ti)))\n",
    "print('50 percent interval: ({:.2f}, {:.2f})'.format(np.percentile(Ti,25), np.percentile(Ti,75)))\n",
    "print('95 percent interval: ({:.2f}, {:.2f})'.format(np.percentile(Ti,2.5), np.percentile(Ti,97.5)))"
   ]
  },
  {
   "cell_type": "code",
   "execution_count": 24,
   "metadata": {},
   "outputs": [
    {
     "data": {
      "application/vnd.jupyter.widget-view+json": {
       "model_id": "84ab0b5603324e9d9ffcd2bfe217e878",
       "version_major": 2,
       "version_minor": 0
      },
      "text/plain": [
       "HBox(children=(FloatProgress(value=0.0, max=100000.0), HTML(value='')))"
      ]
     },
     "metadata": {},
     "output_type": "display_data"
    },
    {
     "name": "stdout",
     "output_type": "stream",
     "text": [
      "\n",
      "Admission to ICU entry if ICU:\n",
      "Mean: 3.75\n",
      "STD: 5.82\n",
      "50 percent interval: (0.26, 4.75)\n",
      "95 percent interval: (0.00, 20.50)\n"
     ]
    }
   ],
   "source": [
    "# Admission to ICU entry\n",
    "\n",
    "npat = 100000 # Number of patients to simulate\n",
    "Ti = np.zeros(npat)\n",
    "for i in tqdm(range(0,npat)):\n",
    "    y=0\n",
    "    Ti[i] = 0.0\n",
    "    while (y != 1):\n",
    "        y = 0\n",
    "        zz = np.where(Qbase[y,:] > 0.0)[0]\n",
    "        tti = np.zeros(len(zz))\n",
    "        yyi = np.zeros(len(zz))\n",
    "        for q, z in enumerate(zz):\n",
    "            k = kmatb[y,z]\n",
    "            scaleg = scalematb[y,z]\n",
    "            tti[q] = scaleg*np.random.weibull(k)\n",
    "            yyi[q] = z\n",
    "\n",
    "        r = np.argmin(tti)\n",
    "        y = int(yyi[r])\n",
    "    Ti[i] += tti[r]\n",
    "print(\"Admission to ICU entry if ICU:\")\n",
    "print('Mean: {:.2f}'.format(np.mean(Ti)))\n",
    "print('STD: {:.2f}'.format(np.std(Ti)))\n",
    "print('50 percent interval: ({:.2f}, {:.2f})'.format(np.percentile(Ti,25), np.percentile(Ti,75)))\n",
    "print('95 percent interval: ({:.2f}, {:.2f})'.format(np.percentile(Ti,2.5), np.percentile(Ti,97.5)))"
   ]
  },
  {
   "cell_type": "code",
   "execution_count": null,
   "metadata": {},
   "outputs": [],
   "source": []
  },
  {
   "cell_type": "code",
   "execution_count": null,
   "metadata": {},
   "outputs": [],
   "source": []
  }
 ],
 "metadata": {
  "kernelspec": {
   "display_name": "Python 3",
   "language": "python",
   "name": "python3"
  },
  "language_info": {
   "codemirror_mode": {
    "name": "ipython",
    "version": 3
   },
   "file_extension": ".py",
   "mimetype": "text/x-python",
   "name": "python",
   "nbconvert_exporter": "python",
   "pygments_lexer": "ipython3",
   "version": "3.7.3"
  }
 },
 "nbformat": 4,
 "nbformat_minor": 2
}
